{
 "cells": [
  {
   "cell_type": "code",
   "execution_count": 6,
   "metadata": {},
   "outputs": [],
   "source": [
    "import requests\n",
    "import pandas as pd\n",
    "import json\n",
    "from config import api_key"
   ]
  },
  {
   "cell_type": "code",
   "execution_count": 27,
   "metadata": {},
   "outputs": [],
   "source": [
    "base_url = f\"https://sandbox-api.brewerydb.com/v2/\"\n",
    "category_list = []\n",
    "category_list.append(requests.get(f\"{base_url}categories/?key={api_key}\").json()['data'])"
   ]
  },
  {
   "cell_type": "code",
   "execution_count": 28,
   "metadata": {},
   "outputs": [
    {
     "data": {
      "text/plain": [
       "[[{'id': 1,\n",
       "   'name': 'British Origin Ales',\n",
       "   'createDate': '2012-03-21 20:06:45'},\n",
       "  {'id': 2, 'name': 'Irish Origin Ales', 'createDate': '2012-03-21 20:06:45'},\n",
       "  {'id': 3,\n",
       "   'name': 'North American Origin Ales',\n",
       "   'createDate': '2012-03-21 20:06:45'},\n",
       "  {'id': 4, 'name': 'German Origin Ales', 'createDate': '2012-03-21 20:06:46'},\n",
       "  {'id': 5,\n",
       "   'name': 'Belgian And French Origin Ales',\n",
       "   'createDate': '2012-03-21 20:06:46'},\n",
       "  {'id': 6,\n",
       "   'name': 'International Ale Styles',\n",
       "   'createDate': '2012-03-21 20:06:46'},\n",
       "  {'id': 7,\n",
       "   'name': 'European-germanic Lager',\n",
       "   'createDate': '2012-03-21 20:06:46'},\n",
       "  {'id': 8,\n",
       "   'name': 'North American Lager',\n",
       "   'createDate': '2012-03-21 20:06:46'},\n",
       "  {'id': 9, 'name': 'Other Lager', 'createDate': '2012-03-21 20:06:46'},\n",
       "  {'id': 10,\n",
       "   'name': 'International Styles',\n",
       "   'createDate': '2012-03-21 20:06:46'},\n",
       "  {'id': 11, 'name': 'Hybrid/mixed Beer', 'createDate': '2012-03-21 20:06:46'},\n",
       "  {'id': 12,\n",
       "   'name': 'Mead, Cider, & Perry',\n",
       "   'createDate': '2012-03-21 20:06:46'},\n",
       "  {'id': 13, 'name': 'Other Origin', 'createDate': '2013-08-10 12:44:20'},\n",
       "  {'id': 14,\n",
       "   'name': 'Malternative Beverages',\n",
       "   'description': 'Malternative Beverages, also known as \"ready-to-drink\" beverages, are sweet, sometime carbonated, beverages that are low in alcohol.',\n",
       "   'createDate': '2014-07-10 14:11:26',\n",
       "   'updateDate': '2014-07-10 14:20:24'},\n",
       "  {'id': 16, 'name': 'test', 'createDate': '2019-03-29 19:46:38'},\n",
       "  {'id': 17, 'name': '\"test\"', 'createDate': '2019-03-29 19:57:16'}]]"
      ]
     },
     "execution_count": 28,
     "metadata": {},
     "output_type": "execute_result"
    }
   ],
   "source": [
    "category_list"
   ]
  },
  {
   "cell_type": "code",
   "execution_count": null,
   "metadata": {},
   "outputs": [],
   "source": []
  }
 ],
 "metadata": {
  "kernelspec": {
   "display_name": "Python [conda env:PythonData]",
   "language": "python",
   "name": "conda-env-PythonData-py"
  },
  "language_info": {
   "codemirror_mode": {
    "name": "ipython",
    "version": 3
   },
   "file_extension": ".py",
   "mimetype": "text/x-python",
   "name": "python",
   "nbconvert_exporter": "python",
   "pygments_lexer": "ipython3",
   "version": "3.6.10"
  }
 },
 "nbformat": 4,
 "nbformat_minor": 4
}
