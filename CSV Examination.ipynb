{
 "cells": [
  {
   "cell_type": "code",
   "execution_count": 1,
   "metadata": {},
   "outputs": [],
   "source": [
    "import pandas as pd \n",
    "import matplotlib.pyplot as plt\n",
    "import scipy.stats as st"
   ]
  },
  {
   "cell_type": "code",
   "execution_count": 3,
   "metadata": {},
   "outputs": [],
   "source": [
    "beer_metadata_path = \"Data/beer_list.csv\"\n",
    "beer_metadata = pd.read_csv(beer_metadata_path)"
   ]
  },
  {
   "cell_type": "code",
   "execution_count": 4,
   "metadata": {},
   "outputs": [
    {
     "output_type": "execute_result",
     "data": {
      "text/plain": [
       "                                Brewery/Beer  \\\n",
       "0       Gordon Biersch Josephsbrau Stockyard   \n",
       "1            High Pines S'mores Brown Please   \n",
       "2                      High Pines Ghost Duck   \n",
       "3             High Pines Invisible Barricade   \n",
       "4           High Pines Liquid in your Jacket   \n",
       "...                                      ...   \n",
       "10425                   Anchor Anchor Porter   \n",
       "10426                Sierra Nevada Pale Bock   \n",
       "10427              Pacific Coast Emerald Ale   \n",
       "10428              Butterfield #1 Tower Dark   \n",
       "10429  Butterfield #1 San Joaquin Golden Ale   \n",
       "\n",
       "                                  Style                    Location  Catalog  \\\n",
       "0                         Oatmeal Stout  United States - California    10455   \n",
       "1              American-Style Brown Ale   United States - Minnesota    10454   \n",
       "2                Juicy or Hazy Pale Ale   United States - Minnesota    10453   \n",
       "3         American-Style India Pale Ale   United States - Minnesota    10452   \n",
       "4                Session India Pale Ale   United States - Minnesota    10451   \n",
       "...                                 ...                         ...      ...   \n",
       "10425                     Robust Porter  United States - California        5   \n",
       "10426  German-Style Heller Bock/Maibock  United States - California        4   \n",
       "10427           American-Style Pale Ale  United States - California        3   \n",
       "10428                     Robust Porter  United States - California        2   \n",
       "10429           American-Style Pale Ale  United States - California        1   \n",
       "\n",
       "       Score        Date  \n",
       "0       16.0  2021-03-07  \n",
       "1       17.0  2021-02-28  \n",
       "2       16.0  2021-02-28  \n",
       "3       15.0  2021-02-28  \n",
       "4       15.0  2021-02-28  \n",
       "...      ...         ...  \n",
       "10425   17.0  1993-03-22  \n",
       "10426   16.0  1993-03-22  \n",
       "10427   13.0  1993-03-22  \n",
       "10428   13.0  1993-03-22  \n",
       "10429   19.0  1993-03-22  \n",
       "\n",
       "[10430 rows x 6 columns]"
      ],
      "text/html": "<div>\n<style scoped>\n    .dataframe tbody tr th:only-of-type {\n        vertical-align: middle;\n    }\n\n    .dataframe tbody tr th {\n        vertical-align: top;\n    }\n\n    .dataframe thead th {\n        text-align: right;\n    }\n</style>\n<table border=\"1\" class=\"dataframe\">\n  <thead>\n    <tr style=\"text-align: right;\">\n      <th></th>\n      <th>Brewery/Beer</th>\n      <th>Style</th>\n      <th>Location</th>\n      <th>Catalog</th>\n      <th>Score</th>\n      <th>Date</th>\n    </tr>\n  </thead>\n  <tbody>\n    <tr>\n      <th>0</th>\n      <td>Gordon Biersch Josephsbrau Stockyard</td>\n      <td>Oatmeal Stout</td>\n      <td>United States - California</td>\n      <td>10455</td>\n      <td>16.0</td>\n      <td>2021-03-07</td>\n    </tr>\n    <tr>\n      <th>1</th>\n      <td>High Pines S'mores Brown Please</td>\n      <td>American-Style Brown Ale</td>\n      <td>United States - Minnesota</td>\n      <td>10454</td>\n      <td>17.0</td>\n      <td>2021-02-28</td>\n    </tr>\n    <tr>\n      <th>2</th>\n      <td>High Pines Ghost Duck</td>\n      <td>Juicy or Hazy Pale Ale</td>\n      <td>United States - Minnesota</td>\n      <td>10453</td>\n      <td>16.0</td>\n      <td>2021-02-28</td>\n    </tr>\n    <tr>\n      <th>3</th>\n      <td>High Pines Invisible Barricade</td>\n      <td>American-Style India Pale Ale</td>\n      <td>United States - Minnesota</td>\n      <td>10452</td>\n      <td>15.0</td>\n      <td>2021-02-28</td>\n    </tr>\n    <tr>\n      <th>4</th>\n      <td>High Pines Liquid in your Jacket</td>\n      <td>Session India Pale Ale</td>\n      <td>United States - Minnesota</td>\n      <td>10451</td>\n      <td>15.0</td>\n      <td>2021-02-28</td>\n    </tr>\n    <tr>\n      <th>...</th>\n      <td>...</td>\n      <td>...</td>\n      <td>...</td>\n      <td>...</td>\n      <td>...</td>\n      <td>...</td>\n    </tr>\n    <tr>\n      <th>10425</th>\n      <td>Anchor Anchor Porter</td>\n      <td>Robust Porter</td>\n      <td>United States - California</td>\n      <td>5</td>\n      <td>17.0</td>\n      <td>1993-03-22</td>\n    </tr>\n    <tr>\n      <th>10426</th>\n      <td>Sierra Nevada Pale Bock</td>\n      <td>German-Style Heller Bock/Maibock</td>\n      <td>United States - California</td>\n      <td>4</td>\n      <td>16.0</td>\n      <td>1993-03-22</td>\n    </tr>\n    <tr>\n      <th>10427</th>\n      <td>Pacific Coast Emerald Ale</td>\n      <td>American-Style Pale Ale</td>\n      <td>United States - California</td>\n      <td>3</td>\n      <td>13.0</td>\n      <td>1993-03-22</td>\n    </tr>\n    <tr>\n      <th>10428</th>\n      <td>Butterfield #1 Tower Dark</td>\n      <td>Robust Porter</td>\n      <td>United States - California</td>\n      <td>2</td>\n      <td>13.0</td>\n      <td>1993-03-22</td>\n    </tr>\n    <tr>\n      <th>10429</th>\n      <td>Butterfield #1 San Joaquin Golden Ale</td>\n      <td>American-Style Pale Ale</td>\n      <td>United States - California</td>\n      <td>1</td>\n      <td>19.0</td>\n      <td>1993-03-22</td>\n    </tr>\n  </tbody>\n</table>\n<p>10430 rows × 6 columns</p>\n</div>"
     },
     "metadata": {},
     "execution_count": 4
    }
   ],
   "source": [
    "beer_metadata"
   ]
  },
  {
   "cell_type": "code",
   "execution_count": null,
   "metadata": {},
   "outputs": [],
   "source": []
  }
 ],
 "metadata": {
  "kernelspec": {
   "name": "python3",
   "display_name": "Python 3",
   "language": "python"
  }
 },
 "nbformat": 4,
 "nbformat_minor": 4
}